{
 "cells": [
  {
   "cell_type": "code",
   "execution_count": 7,
   "metadata": {},
   "outputs": [
    {
     "name": "stderr",
     "output_type": "stream",
     "text": [
      "[nltk_data] Downloading package movie_reviews to\n",
      "[nltk_data]     /home/itachi_uchiha/nltk_data...\n",
      "[nltk_data]   Package movie_reviews is already up-to-date!\n",
      "[nltk_data] Downloading package punkt to\n",
      "[nltk_data]     /home/itachi_uchiha/nltk_data...\n",
      "[nltk_data]   Package punkt is already up-to-date!\n",
      "[nltk_data] Downloading package stopwords to\n",
      "[nltk_data]     /home/itachi_uchiha/nltk_data...\n",
      "[nltk_data]   Package stopwords is already up-to-date!\n"
     ]
    },
    {
     "name": "stdout",
     "output_type": "stream",
     "text": [
      "('plot : two teen couples go to a church party , drink and then drive . \\nthey get into an accident . \\none of the guys dies , but his girlfriend continues to see him in her life , and has nightmares . \\nwhat\\'s the deal ? \\nwatch the movie and \" sorta \" find out . . . \\ncritique : a mind-fuck movie for the teen generation that touches on a very cool idea , but presents it in a very bad package . \\nwhich is what makes this review an even harder one to write , since i generally applaud films which attempt to break the mold , mess with your head and such ( lost highway & memento ) , but there are good and bad ways of making all types of films , and these folks just didn\\'t snag this one correctly . \\nthey seem to have taken this pretty neat concept , but executed it terribly . \\nso what are the problems with the movie ? \\nwell , its main problem is that it\\'s simply too jumbled . \\nit starts off \" normal \" but then downshifts into this \" fantasy \" world in which you , as an audience member , have no idea what\\'s going on . \\nthere are dreams , there are characters coming back from the dead , there are others who look like the dead , there are strange apparitions , there are disappearances , there are a looooot of chase scenes , there are tons of weird things that happen , and most of it is simply not explained . \\nnow i personally don\\'t mind trying to unravel a film every now and then , but when all it does is give me the same clue over and over again , i get kind of fed up after a while , which is this film\\'s biggest problem . \\nit\\'s obviously got this big secret to hide , but it seems to want to hide it completely until its final five minutes . \\nand do they make things entertaining , thrilling or even engaging , in the meantime ? \\nnot really . \\nthe sad part is that the arrow and i both dig on flicks like this , so we actually figured most of it out by the half-way point , so all of the strangeness after that did start to make a little bit of sense , but it still didn\\'t the make the film all that more entertaining . \\ni guess the bottom line with movies like this is that you should always make sure that the audience is \" into it \" even before they are given the secret password to enter your world of understanding . \\ni mean , showing melissa sagemiller running away from visions for about 20 minutes throughout the movie is just plain lazy ! ! \\nokay , we get it . . . there \\nare people chasing her and we don\\'t know who they are . \\ndo we really need to see it over and over again ? \\nhow about giving us different scenes offering further insight into all of the strangeness going down in the movie ? \\napparently , the studio took this film away from its director and chopped it up themselves , and it shows . \\nthere might\\'ve been a pretty decent teen mind-fuck movie in here somewhere , but i guess \" the suits \" decided that turning it into a music video with little edge , would make more sense . \\nthe actors are pretty good for the most part , although wes bentley just seemed to be playing the exact same character that he did in american beauty , only in a new neighborhood . \\nbut my biggest kudos go out to sagemiller , who holds her own throughout the entire film , and actually has you feeling her character\\'s unraveling . \\noverall , the film doesn\\'t stick because it doesn\\'t entertain , it\\'s confusing , it rarely excites and it feels pretty redundant for most of its runtime , despite a pretty cool ending and explanation to all of the craziness that came before it . \\noh , and by the way , this is not a horror or teen slasher flick . . . it\\'s \\njust packaged to look that way because someone is apparently assuming that the genre is still hot with the kids . \\nit also wrapped production two years ago and has been sitting on the shelves ever since . \\nwhatever . . . skip \\nit ! \\nwhere\\'s joblo coming from ? \\na nightmare of elm street 3 ( 7/10 ) - blair witch 2 ( 7/10 ) - the crow ( 9/10 ) - the crow : salvation ( 4/10 ) - lost highway ( 10/10 ) - memento ( 10/10 ) - the others ( 9/10 ) - stir of echoes ( 8/10 ) \\n', 'neg')\n",
      "                                            review_text label\n",
      "1841  200 cigarettes takes place on new year's eve 1...   neg\n",
      "729   there's a scene somewhere in this film where o...   neg\n",
      "1156  recently i read 4 reviews of pleasantville-one...   pos\n",
      "1153  it is easy to see why the late stanley kubrick...   pos\n",
      "1425   \" the fugitive \" is probably one of the great...   pos \n",
      "\n",
      "written david j schow john shirley based comic book series comic book strip james cast brandon lee ernie hudson michael wincott david patrick kelly rochelle davis jon polito mpaa rating r presumably rape language violence running time minutes looks like zigged zagged ernie hudson police officer commenting suspicious death comic book translations notorious tricky anyone punisher captain america crow proves exception despite gross good intentions brandon lee final film fly high story opens hallowe \n",
      "\n"
     ]
    }
   ],
   "source": [
    "import nltk\n",
    "import pandas as pd\n",
    "import random\n",
    "from nltk.corpus import movie_reviews\n",
    "\n",
    "nltk.download('movie_reviews')\n",
    "nltk.download('punkt')\n",
    "nltk.download('stopwords')\n",
    "\n",
    "documents = []\n",
    "\n",
    "for category in movie_reviews.categories():\n",
    "    fileids = movie_reviews.fileids(category)\n",
    "    for fileid in fileids:\n",
    "        review_text = movie_reviews.raw(fileid)\n",
    "        documents.append((review_text, category))\n",
    "\n",
    "random.shuffle(documents)\n",
    "\n",
    "\n",
    "df = pd.DataFrame(documents, columns=['review_text', 'label'])\n",
    "print(df.sample(5),\"\\n\")\n",
    "\n",
    "\n",
    "\n",
    "from nltk.corpus import stopwords\n",
    "from nltk.tokenize import word_tokenize\n",
    "\n",
    "stop_words = set(stopwords.words('english'))\n",
    "def preprocess(text):\n",
    "    tokens = word_tokenize(text.lower())\n",
    "    cleaned = [word for word in tokens if word.isalpha() and word not in stop_words]\n",
    "    return ' '.join(cleaned)\n",
    "\n",
    "\n",
    "cleaned_review = preprocess(df['review_text'][0])\n",
    "print(cleaned_review[:500],\"\\n\")\n",
    "\n",
    "\n",
    "\n"
   ]
  },
  {
   "cell_type": "code",
   "execution_count": 10,
   "metadata": {},
   "outputs": [
    {
     "name": "stdout",
     "output_type": "stream",
     "text": [
      "   about  all  an  and  are  as  at  be  but  by  ...  this  to  up  was  \\\n",
      "0      1    0   6   24    4  11   1   3    2   4  ...     0  14   2    4   \n",
      "1      1    3   7   25    3   5   3   1    6   5  ...     1  17   4    4   \n",
      "2      1    0   2    9    3   2   2   0    5   1  ...     7  11   0    7   \n",
      "3      3    1   4   18    1   6   0   3    4   2  ...     1  11   3    0   \n",
      "4      2    2   4   21    0   7   1   2    6   1  ...     5  14   0   10   \n",
      "\n",
      "   what  when  which  who  with  you  \n",
      "0     1     2      0    3     0    0  \n",
      "1     2     2      5    5     7    1  \n",
      "2     1     1      0    0     4    4  \n",
      "3     3     1      2    3     5    0  \n",
      "4     1     0      0    3     3    3  \n",
      "\n",
      "[5 rows x 50 columns]\n",
      "the     76529\n",
      "and     35576\n",
      "of      34123\n",
      "to      31937\n",
      "is      25195\n",
      "in      21822\n",
      "it      16107\n",
      "that    15924\n",
      "as      11378\n",
      "with    10792\n",
      "dtype: int64 \n",
      "\n"
     ]
    }
   ],
   "source": [
    "# Bag of Words\n",
    "from sklearn.feature_extraction.text import CountVectorizer\n",
    "\n",
    "bow_vectorizer = CountVectorizer(max_features=50)\n",
    "bow_matrix = bow_vectorizer.fit_transform(df['review_text'])\n",
    "bow_df = pd.DataFrame(bow_matrix.toarray(), columns=bow_vectorizer.get_feature_names_out())\n",
    "\n",
    "print(bow_df.head())\n",
    "\n",
    "# Top 10 most frequent words\n",
    "print(bow_df.sum().sort_values(ascending=False).head(10),\"\\n\")\n",
    "\n"
   ]
  },
  {
   "cell_type": "code",
   "execution_count": 9,
   "metadata": {},
   "outputs": [
    {
     "name": "stdout",
     "output_type": "stream",
     "text": [
      "the    0.536203\n",
      "and    0.495204\n",
      "to     0.289013\n",
      "as     0.235993\n",
      "of     0.206335\n",
      "Name: 0, dtype: float64\n"
     ]
    }
   ],
   "source": [
    "# TF-IDF\n",
    "from sklearn.feature_extraction.text import TfidfVectorizer\n",
    "\n",
    "tfidf_vectorizer = TfidfVectorizer(max_features=50)\n",
    "tfidf_matrix = tfidf_vectorizer.fit_transform(df['review_text'])\n",
    "tfidf_df = pd.DataFrame(tfidf_matrix.toarray(), columns=tfidf_vectorizer.get_feature_names_out())\n",
    "\n",
    "\n",
    "\n",
    "# Top 5 TF-IDF words in first review\n",
    "print(tfidf_df.iloc[0].sort_values(ascending=False).head(5))"
   ]
  },
  {
   "cell_type": "code",
   "execution_count": 11,
   "metadata": {},
   "outputs": [
    {
     "name": "stdout",
     "output_type": "stream",
     "text": [
      "      about       all        an       and       are        as        at  \\\n",
      "0  0.027082  0.000000  0.137736  0.495204  0.092009  0.235993  0.023720   \n",
      "1  0.017031  0.047488  0.101054  0.324393  0.043396  0.067458  0.044750   \n",
      "2  0.026971  0.000000  0.045724  0.184941  0.068724  0.042732  0.047246   \n",
      "3  0.088612  0.027453  0.100149  0.405075  0.025088  0.140394  0.000000   \n",
      "4  0.046543  0.043260  0.078904  0.372338  0.000000  0.129048  0.020383   \n",
      "\n",
      "         be       but        by  ...      this        to        up       was  \\\n",
      "0  0.069250  0.043274  0.091962  ...  0.000000  0.289013  0.054164  0.106378   \n",
      "1  0.014516  0.081641  0.072290  ...  0.013655  0.220698  0.068124  0.066897   \n",
      "2  0.000000  0.107743  0.022896  ...  0.151369  0.226152  0.000000  0.185398   \n",
      "3  0.075528  0.094395  0.050150  ...  0.023682  0.247670  0.088612  0.000000   \n",
      "4  0.039671  0.111557  0.019756  ...  0.093290  0.248350  0.000000  0.228526   \n",
      "\n",
      "       what      when     which       who      with       you  \n",
      "0  0.027975  0.054504  0.000000  0.070127  0.000000  0.000000  \n",
      "1  0.035186  0.034276  0.091728  0.073501  0.093315  0.016925  \n",
      "2  0.027861  0.027140  0.000000  0.000000  0.084445  0.107213  \n",
      "3  0.091535  0.029723  0.063635  0.076485  0.115599  0.000000  \n",
      "4  0.024039  0.000000  0.000000  0.060260  0.054646  0.069381  \n",
      "\n",
      "[5 rows x 50 columns] \n",
      "                                          review_text label\n",
      "0  written by david j . schow and john shirley , ...   neg\n",
      "1  whenever writer/director robert altman works i...   pos\n",
      "2  the only two really good things that i can say...   neg\n",
      "3  the most amazing thing about paul cox's innoce...   pos\n",
      "4  a big house . \\na big director , jan de bont o...   neg\n"
     ]
    }
   ],
   "source": [
    "print(tfidf_df.head(),\"\\n\",df.head())"
   ]
  }
 ],
 "metadata": {
  "kernelspec": {
   "display_name": "myenv",
   "language": "python",
   "name": "python3"
  },
  "language_info": {
   "codemirror_mode": {
    "name": "ipython",
    "version": 3
   },
   "file_extension": ".py",
   "mimetype": "text/x-python",
   "name": "python",
   "nbconvert_exporter": "python",
   "pygments_lexer": "ipython3",
   "version": "3.12.3"
  }
 },
 "nbformat": 4,
 "nbformat_minor": 2
}
