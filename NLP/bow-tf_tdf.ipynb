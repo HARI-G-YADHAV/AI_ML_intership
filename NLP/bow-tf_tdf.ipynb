{
 "cells": [
  {
   "cell_type": "code",
   "execution_count": 3,
   "metadata": {},
   "outputs": [],
   "source": [
    "corpus = [\n",
    "    \"Natural Language Processing is a part of Artificial Intelligence\",\n",
    "    \"Machine learning provides systems the ability to learn automatically\",\n",
    "    \"Deep learning is a subset of machine learning in AI\",\n",
    "    \"Artificial Intelligence and Machine Learning are transforming industries\",\n",
    "    \"NLP tasks include text classification, sentiment analysis, and translation\",\n",
    "    \"AI applications include chatbots, recommendation systems, and speech recognition\",\n",
    "    \"Supervised learning requires labeled data to train the model\",\n",
    "    \"Unsupervised learning works with data without labeled outcomes\",\n",
    "    \"Reinforcement learning is used in robotics and game playing\",\n",
    "    \"Deep learning models require a large amount of data and computation\"\n",
    "]\n",
    "\n",
    "from sklearn.feature_extraction.text import CountVectorizer, TfidfVectorizer\n",
    "import pandas as pd\n",
    "\n",
    "\n",
    "\n"
   ]
  },
  {
   "cell_type": "code",
   "execution_count": 6,
   "metadata": {},
   "outputs": [
    {
     "name": "stdout",
     "output_type": "stream",
     "text": [
      "   ability  ai  amount  analysis  and  ...  unsupervised  used  with  without  works\n",
      "0        0   0       0         0    0  ...             0     0     0        0      0\n",
      "1        1   0       0         0    0  ...             0     0     0        0      0\n",
      "2        0   1       0         0    0  ...             0     0     0        0      0\n",
      "3        0   0       0         0    1  ...             0     0     0        0      0\n",
      "4        0   0       0         1    1  ...             0     0     0        0      0\n",
      "5        0   1       0         0    1  ...             0     0     0        0      0\n",
      "6        0   0       0         0    0  ...             0     0     0        0      0\n",
      "7        0   0       0         0    0  ...             1     0     1        1      1\n",
      "8        0   0       0         0    1  ...             0     1     0        0      0\n",
      "9        0   0       1         0    1  ...             0     0     0        0      0\n",
      "\n",
      "[10 rows x 59 columns]\n"
     ]
    }
   ],
   "source": [
    "bow = CountVectorizer()\n",
    "\n",
    "bow_matrix = bow.fit_transform(corpus)\n",
    "\n",
    "\n",
    "df = pd.DataFrame(bow_matrix.toarray(),columns = bow.get_feature_names_out())\n",
    "\n",
    "print(df)"
   ]
  },
  {
   "cell_type": "code",
   "execution_count": 8,
   "metadata": {},
   "outputs": [
    {
     "name": "stdout",
     "output_type": "stream",
     "text": [
      "<Compressed Sparse Row sparse matrix of dtype 'float64'\n",
      "\twith 87 stored elements and shape (10, 59)>\n",
      "  Coords\tValues\n",
      "  (0, 28)\t0.39068528196848207\n",
      "  (0, 21)\t0.39068528196848207\n",
      "  (0, 34)\t0.39068528196848207\n",
      "  (0, 19)\t0.29056416441974686\n",
      "  (0, 32)\t0.39068528196848207\n",
      "  (0, 30)\t0.29056416441974686\n",
      "  (0, 7)\t0.3321181826721771\n",
      "  (0, 18)\t0.3321181826721771\n",
      "  (1, 25)\t0.28193594676804035\n",
      "  (1, 24)\t0.18478789644343346\n",
      "  (1, 35)\t0.3790839970926472\n",
      "  (1, 46)\t0.3222560306345804\n",
      "  (1, 49)\t0.3222560306345804\n",
      "  (1, 0)\t0.3790839970926472\n",
      "  (1, 50)\t0.3222560306345804\n",
      "  (1, 23)\t0.3790839970926472\n",
      "  (1, 8)\t0.3790839970926472\n",
      "  (2, 19)\t0.30940872775229533\n",
      "  (2, 30)\t0.30940872775229533\n",
      "  (2, 25)\t0.30940872775229533\n",
      "  (2, 24)\t0.4055884934007775\n",
      "  (2, 13)\t0.3536577353549903\n",
      "  (2, 44)\t0.41602320880420185\n",
      "  (2, 15)\t0.3536577353549903\n",
      "  (2, 1)\t0.3536577353549903\n",
      "  :\t:\n",
      "  (7, 12)\t0.2914143642293221\n",
      "  (7, 54)\t0.3918284392913982\n",
      "  (7, 58)\t0.3918284392913982\n",
      "  (7, 56)\t0.3918284392913982\n",
      "  (7, 57)\t0.3918284392913982\n",
      "  (7, 31)\t0.3918284392913982\n",
      "  (8, 19)\t0.2838325541893686\n",
      "  (8, 24)\t0.1860309805545014\n",
      "  (8, 15)\t0.3244238747363195\n",
      "  (8, 4)\t0.22662230110145237\n",
      "  (8, 38)\t0.3816341278242357\n",
      "  (8, 55)\t0.3816341278242357\n",
      "  (8, 41)\t0.3816341278242357\n",
      "  (8, 14)\t0.3816341278242357\n",
      "  (8, 33)\t0.3816341278242357\n",
      "  (9, 30)\t0.27304710567550444\n",
      "  (9, 24)\t0.17896192687077359\n",
      "  (9, 13)\t0.31209598300582275\n",
      "  (9, 4)\t0.21801080420109195\n",
      "  (9, 12)\t0.27304710567550444\n",
      "  (9, 27)\t0.36713228448023527\n",
      "  (9, 39)\t0.36713228448023527\n",
      "  (9, 22)\t0.36713228448023527\n",
      "  (9, 2)\t0.36713228448023527\n",
      "  (9, 11)\t0.36713228448023527\n"
     ]
    }
   ],
   "source": [
    "tf_idf = TfidfVectorizer()\n",
    "\n",
    "tf_matrix = tf_idf.fit_transform(corpus)\n",
    "\n",
    "print(tf_matrix)"
   ]
  },
  {
   "cell_type": "code",
   "execution_count": 17,
   "metadata": {},
   "outputs": [
    {
     "name": "stdout",
     "output_type": "stream",
     "text": [
      "         0         1         2   ...        56        57        58\n",
      "0  0.000000  0.000000  0.000000  ...  0.000000  0.000000  0.000000\n",
      "1  0.379084  0.000000  0.000000  ...  0.000000  0.000000  0.000000\n",
      "2  0.000000  0.353658  0.000000  ...  0.000000  0.000000  0.000000\n",
      "3  0.000000  0.000000  0.000000  ...  0.000000  0.000000  0.000000\n",
      "4  0.000000  0.000000  0.000000  ...  0.000000  0.000000  0.000000\n",
      "5  0.000000  0.309984  0.000000  ...  0.000000  0.000000  0.000000\n",
      "6  0.000000  0.000000  0.000000  ...  0.000000  0.000000  0.000000\n",
      "7  0.000000  0.000000  0.000000  ...  0.391828  0.391828  0.391828\n",
      "8  0.000000  0.000000  0.000000  ...  0.000000  0.000000  0.000000\n",
      "9  0.000000  0.000000  0.367132  ...  0.000000  0.000000  0.000000\n",
      "\n",
      "[10 rows x 59 columns]\n"
     ]
    }
   ],
   "source": [
    "df2 = pd.DataFrame(tf_matrix.toarray())\n",
    "\n",
    "\n",
    "print(df2)"
   ]
  },
  {
   "cell_type": "code",
   "execution_count": 31,
   "metadata": {},
   "outputs": [
    {
     "name": "stdout",
     "output_type": "stream",
     "text": [
      "['ability' 'ai' 'amount' 'analysis' 'and' 'applications' 'are'\n",
      " 'artificial' 'automatically' 'chatbots' 'classification' 'computation'\n",
      " 'data' 'deep' 'game' 'in' 'include' 'industries' 'intelligence' 'is'\n",
      " 'labeled' 'language' 'large' 'learn' 'learning' 'machine' 'model'\n",
      " 'models' 'natural' 'nlp' 'of' 'outcomes' 'part' 'playing' 'processing'\n",
      " 'provides' 'recognition' 'recommendation' 'reinforcement' 'require'\n",
      " 'requires' 'robotics' 'sentiment' 'speech' 'subset' 'supervised'\n",
      " 'systems' 'tasks' 'text' 'the' 'to' 'train' 'transforming' 'translation'\n",
      " 'unsupervised' 'used' 'with' 'without' 'works']\n"
     ]
    }
   ],
   "source": [
    "feature_names = tf_idf.get_feature_names_out()\n",
    "print(feature_names)\n",
    "\n",
    "def tfidf_score_single_word(word,doc):\n",
    "    word_index = list(feature_names).index(word)\n",
    "    tfidf_score = tf_matrix[doc, word_index]\n",
    "    print(\"tfidf_score : \",tfidf_score)\n",
    "    "
   ]
  },
  {
   "cell_type": "code",
   "execution_count": 30,
   "metadata": {},
   "outputs": [
    {
     "name": "stdout",
     "output_type": "stream",
     "text": [
      "tfidf_score :  0.39068528196848207\n"
     ]
    }
   ],
   "source": [
    "tfidf_score_single_word(\"language\",0)"
   ]
  }
 ],
 "metadata": {
  "kernelspec": {
   "display_name": "myenv",
   "language": "python",
   "name": "python3"
  },
  "language_info": {
   "codemirror_mode": {
    "name": "ipython",
    "version": 3
   },
   "file_extension": ".py",
   "mimetype": "text/x-python",
   "name": "python",
   "nbconvert_exporter": "python",
   "pygments_lexer": "ipython3",
   "version": "3.12.3"
  }
 },
 "nbformat": 4,
 "nbformat_minor": 2
}
