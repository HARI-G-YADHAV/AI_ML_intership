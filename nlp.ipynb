{
 "cells": [
  {
   "cell_type": "code",
   "execution_count": 25,
   "metadata": {},
   "outputs": [],
   "source": [
    "import re\n",
    "\n",
    "text = \"\"\"\n",
    "Hey there! I'm Hari, a Python developer. Contact me at itachi@example.com or visit my site at https://itachi.ai.\n",
    "I started coding in 2018 and currently working at Tech@123. The product costs ₹1500 or $20.\n",
    "\"\"\""
   ]
  },
  {
   "cell_type": "code",
   "execution_count": 26,
   "metadata": {},
   "outputs": [
    {
     "name": "stdout",
     "output_type": "stream",
     "text": [
      "\n",
      "Hey there! I'm Hari, a Python developer. Contact me at itachi@example.com or visit my site at https://itachi.ai.\n",
      "I started coding in 2018 and currently working at Tech@123. The product costs ₹1500 or $20.\n",
      "\n"
     ]
    }
   ],
   "source": [
    "print(text)"
   ]
  },
  {
   "cell_type": "code",
   "execution_count": 27,
   "metadata": {},
   "outputs": [
    {
     "name": "stdout",
     "output_type": "stream",
     "text": [
      "<re.Match object; span=(24, 30), match='Python'>\n"
     ]
    }
   ],
   "source": [
    "match = re.search(r'\\bPython\\b',text)\n",
    "print(match)"
   ]
  },
  {
   "cell_type": "code",
   "execution_count": 28,
   "metadata": {},
   "outputs": [],
   "source": [
    "emails = re.findall(r'\\S+@\\S+',text)"
   ]
  },
  {
   "cell_type": "code",
   "execution_count": 29,
   "metadata": {},
   "outputs": [
    {
     "name": "stdout",
     "output_type": "stream",
     "text": [
      "['itachi@example.com', 'Tech@123.']\n"
     ]
    }
   ],
   "source": [
    "print(emails)"
   ]
  },
  {
   "cell_type": "code",
   "execution_count": 30,
   "metadata": {},
   "outputs": [
    {
     "name": "stdout",
     "output_type": "stream",
     "text": [
      "\n",
      "Hey there! I'm Hari, a Python developer. Contact me at  or visit my site at https://itachi.ai.\n",
      "I started coding in 2018 and currently working at  The product costs ₹1500 or $20.\n",
      "\n"
     ]
    }
   ],
   "source": [
    "clean_text = re.sub(r'\\S+@\\S+',\"\",text)\n",
    "print(clean_text)"
   ]
  },
  {
   "cell_type": "code",
   "execution_count": 31,
   "metadata": {},
   "outputs": [
    {
     "name": "stdout",
     "output_type": "stream",
     "text": [
      "\n",
      "Hey there! I'm Hari, a Python developer. Contact me at  or visit my site at \n",
      "I started coding in 2018 and currently working at  The product costs ₹1500 or $20.\n",
      "\n"
     ]
    }
   ],
   "source": [
    "clean_text = re.sub(r'http\\S+|www\\S+',\"\",clean_text)\n",
    "print(clean_text)"
   ]
  },
  {
   "cell_type": "code",
   "execution_count": 32,
   "metadata": {},
   "outputs": [
    {
     "name": "stdout",
     "output_type": "stream",
     "text": [
      "\n",
      "Hey there! I'm Hari, a Python developer. Contact me at  or visit my site at \n",
      "I started coding in 2018 and currently working at  The product costs  or .\n",
      "\n"
     ]
    }
   ],
   "source": [
    "clean_text = re.sub(r'₹\\d+|\\$\\d+',\"\",clean_text)\n",
    "print(clean_text)"
   ]
  },
  {
   "cell_type": "code",
   "execution_count": 34,
   "metadata": {},
   "outputs": [
    {
     "name": "stdout",
     "output_type": "stream",
     "text": [
      "\n",
      "Hey there! I'm Hari, a Python developer. Contact me at  or visit my site at \n",
      "I started coding in  and currently working at  The product costs  or .\n",
      "\n"
     ]
    }
   ],
   "source": [
    "clean_text = re.sub(r\"\\d+\",\"\",clean_text)\n",
    "print(clean_text)"
   ]
  },
  {
   "cell_type": "code",
   "execution_count": 35,
   "metadata": {},
   "outputs": [
    {
     "name": "stdout",
     "output_type": "stream",
     "text": [
      "\n",
      "Hey there Im Hari a Python developer Contact me at  or visit my site at \n",
      "I started coding in  and currently working at  The product costs  or \n",
      "\n"
     ]
    }
   ],
   "source": [
    "clean_text = re.sub(r'[^\\w\\s]',\"\",clean_text)\n",
    "print(clean_text)"
   ]
  },
  {
   "cell_type": "code",
   "execution_count": null,
   "metadata": {},
   "outputs": [],
   "source": []
  }
 ],
 "metadata": {
  "kernelspec": {
   "display_name": "myenv",
   "language": "python",
   "name": "python3"
  },
  "language_info": {
   "codemirror_mode": {
    "name": "ipython",
    "version": 3
   },
   "file_extension": ".py",
   "mimetype": "text/x-python",
   "name": "python",
   "nbconvert_exporter": "python",
   "pygments_lexer": "ipython3",
   "version": "3.12.3"
  }
 },
 "nbformat": 4,
 "nbformat_minor": 2
}
